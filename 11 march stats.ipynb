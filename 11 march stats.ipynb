{
 "cells": [
  {
   "cell_type": "markdown",
   "id": "f83588d4-0545-4dc0-8ce4-bc0c4fca7d4c",
   "metadata": {},
   "source": [
    "Q1)"
   ]
  },
  {
   "cell_type": "markdown",
   "id": "ed640e12-0859-4f6e-bf69-dc0cd7baf754",
   "metadata": {},
   "source": [
    "The t-test and the z-test are both statistical tests used to make inferences about population parameters based on sample data. The main difference between these tests lies in the assumptions made about the population and the available information.\n",
    "\n",
    "T-Test: The t-test is used when the population standard deviation is unknown and needs to be estimated from the sample. It is appropriate for small sample sizes (typically when the sample size is less than 30) and when the population follows a normal distribution. Example Scenario: Let's say you want to compare the mean scores of two groups of students who have undergone different teaching methods (Group A and Group B). You collect a random sample of 20 students from each group and measure their scores. Since the population standard deviation is unknown, you would use a t-test to determine if there is a significant difference between the mean scores of the two groups.\n",
    "\n",
    "Z-Test: The z-test is used when the population standard deviation is known or when the sample size is large (typically when the sample size is greater than 30). It assumes that the population follows a normal distribution. Example Scenario: Suppose you want to test whether the mean height of a population of adult males is significantly different from a given standard height. You collect a large sample of 200 adult males and measure their heights. Since you have a large sample and the population standard deviation is known or can be assumed, you can use a z-test to determine if the mean height significantly differs from the standard height."
   ]
  },
  {
   "cell_type": "markdown",
   "id": "a85970d5-60c2-4fde-b6c8-c08e65b746e5",
   "metadata": {},
   "source": [
    "Q2)"
   ]
  },
  {
   "cell_type": "markdown",
   "id": "b172f660-07e7-422a-9be7-60763657b357",
   "metadata": {},
   "source": [
    "One-Tailed Test: A one-tailed test is a statistical test where the alternative hypothesis is directional, meaning it specifies the expected direction of the effect or difference. It focuses on determining if the observed data is significantly greater than or less than a certain value, without considering the possibility of an effect in the opposite direction. The critical region for the test is only on one side of the distribution.\n",
    "\n",
    "Example: Let's say a pharmaceutical company develops a new drug and expects it to increase the average response time in a specific task. The one-tailed hypothesis would state that the new drug has a statistically significant effect by reducing the response time. The test would focus on determining if the response time is significantly lower than a certain threshold.\n",
    "Two-Tailed Test: A two-tailed test is a statistical test where the alternative hypothesis is non-directional, meaning it does not specify the expected direction of the effect or difference. It is used to determine if the observed data is significantly different from a certain value, without assuming a specific direction. The critical region for the test is divided between both sides of the distribution.\n",
    "\n",
    "Example: Suppose a researcher wants to investigate if a new teaching method has an effect on exam scores. The two-tailed hypothesis would state that the new teaching method has a statistically significant effect on the scores, without specifying if it would increase or decrease the scores. The test would determine if the exam scores significantly differ from a specific value."
   ]
  },
  {
   "cell_type": "markdown",
   "id": "02c56d88-d969-4917-89af-f8c7f3bdc36e",
   "metadata": {},
   "source": [
    "Q3)"
   ]
  },
  {
   "cell_type": "markdown",
   "id": "36105ec4-020d-4931-9090-ab2f9abe73a7",
   "metadata": {},
   "source": [
    "Type 1 and Type 2 errors are two possible errors that can occur in hypothesis testing:\n",
    "\n",
    "Type 1 Error (False Positive): A Type 1 error occurs when the null hypothesis is incorrectly rejected, indicating a significant effect or difference when, in reality, no such effect or difference exists. It is also known as a false positive. The significance level (alpha) determines the probability of making a Type 1 error.\n",
    "\n",
    "Example Scenario: Let's consider a criminal trial where the null hypothesis is that the defendant is innocent. A Type 1 error would occur if the jury incorrectly rejects the null hypothesis and convicts the defendant even though they are innocent. In this case, an innocent person is wrongly found guilty.\n",
    "Type 2 Error (False Negative): A Type 2 error occurs when the null hypothesis is incorrectly failed to be rejected, suggesting no significant effect or difference when, in reality, there is an effect or difference present. It is also known as a false negative. The probability of making a Type 2 error is denoted as beta and is influenced by factors such as sample size and effect size.\n",
    "\n",
    "Example Scenario: Consider a medical test for a rare disease where the null hypothesis is that a patient does not have the disease. A Type 2 error would occur if the test incorrectly fails to reject the null hypothesis and declares the patient as disease-free, even though they have the disease. In this case, a sick individual is wrongly classified as healthy.\n",
    "It's important to note that there is an inherent trade-off between Type 1 and Type 2 errors. Reducing the probability of one type of error increases the probability of the other. The balance between these two types of errors is often managed by selecting an appropriate significance level (alpha) and determining an acceptable level of risk"
   ]
  },
  {
   "cell_type": "markdown",
   "id": "2bdea2b0-7115-4d82-b27d-a27ba51a8061",
   "metadata": {},
   "source": [
    "Q4)"
   ]
  },
  {
   "cell_type": "markdown",
   "id": "7263b480-57a2-4c40-bb77-be797600ab5a",
   "metadata": {},
   "source": [
    "Bayes's theorem is a fundamental concept in probability theory that enables the updating of the probability of an event based on new evidence. It provides a framework for incorporating prior knowledge and adjusting beliefs in light of new information. The theorem is named after Thomas Bayes, an 18th-century mathematician.\n",
    "\n",
    "Bayes's theorem can be stated as follows:\n",
    "\n",
    " \n",
    " \n",
    " \n",
    "Where:\n",
    "\n",
    "P(A|B) represents the conditional probability of event A given event B.\n",
    "P(B|A) represents the conditional probability of event B given event A.\n",
    "P(A) and P(B) represent the probabilities of event A and event B, respectively.\n",
    "In words, Bayes's theorem states that the probability of event A occurring given that event B has occurred is equal to the probability of event B occurring given that event A has occurred, multiplied by the prior probability of event A, divided by the prior probability of event B.\n",
    "\n",
    "Example: Let's consider a medical scenario. Suppose there is a certain disease, and the prevalence of the disease in the population is 1%, which means that P(A) (the prior probability of having the disease) is 0.01.\n",
    "\n",
    "Now, let's assume there is a diagnostic test for this disease that has been shown to be 95% accurate. This accuracy can be represented as P(B|A), which is the probability of a positive test result given that the person actually has the disease.\n",
    "\n",
    "If an individual tests positive for the disease, we want to know the probability that they truly have the disease, P(A|B). Let's say the person's test result is positive (event B).\n",
    "\n",
    "Using Bayes's theorem, we can calculate the probability as follows:\n",
    "\n",
    "P(A|B) = (P(B|A) * P(A)) / P(B)\n",
    "\n",
    "P(A|B) = (0.95 * 0.01) / P(B)\n",
    "\n",
    "Here, P(B) represents the probability of testing positive for the disease, which can be calculated by considering both true positives and false positives. It can be expressed as:\n",
    "\n",
    "P(B) = (P(B|A) * P(A)) + (P(B|not A) * P(not A))"
   ]
  },
  {
   "cell_type": "markdown",
   "id": "35a59ccb-b2df-4451-9b2a-b13f2a785552",
   "metadata": {},
   "source": [
    "Q5)"
   ]
  },
  {
   "cell_type": "markdown",
   "id": "f9cbdf81-f9a7-418c-8f4a-095b60273eab",
   "metadata": {},
   "source": [
    "A confidence interval is a range of values that is likely to contain the true population parameter based on a sample from that population. It provides an estimate of the precision or uncertainty associated with an estimate.\n",
    "\n",
    "To calculate a confidence interval, the following information is needed:\n",
    "\n",
    "Sample Mean (x̄): The average value of the sample. Standard Deviation (σ) or Standard Error (SE): A measure of the variability in the sample. The choice between σ or SE depends on whether the population standard deviation is known or estimated from the sample. Sample Size (n): The number of observations in the sample. Confidence Level (CL): The desired level of confidence, often expressed as a percentage. Common choices are 90%, 95%, or 99%. The formula for calculating a confidence interval is:\n",
    "\n",
    "Confidence Interval = x̄ ± (Critical Value * Standard Error)\n",
    "\n",
    "The critical value corresponds to the desired confidence level and takes into account the distribution of the sample data. It is obtained from statistical tables or calculated using statistical software.\n",
    "\n",
    "Example: Let's say you want to estimate the average weight of a population of fish. You collect a random sample of 100 fish and measure their weights. The sample mean weight is found to be 500 grams, and the sample standard deviation is 50 grams. You want to calculate a 95% confidence interval for the population mean weight.\n",
    "\n",
    "Calculate the Standard Error (SE): SE = σ / √n, where σ is the sample standard deviation and n is the sample size. SE = 50 / √100 = 50 / 10 = 5 grams\n",
    "\n",
    "Determine the Critical Value: For a 95% confidence level, the critical value can be obtained from a standard normal distribution table or statistical software. Let's assume the critical value is 1.96.\n",
    "\n",
    "Calculate the Confidence Interval: Confidence Interval = x̄ ± (Critical Value * SE) Confidence Interval = 500 ± (1.96 * 5) = 500 ± 9.8 Confidence Interval = (490.2, 509.8)\n",
    "\n",
    "Interpretation: Based on the sample data, we can be 95% confident that the true population mean weight of the fish lies within the interval of 490.2 grams to 509.8 grams. This means that if we repeated the sampling process multiple times, 95% of the resulting confidence intervals would contain the true population mean weight.\n",
    "\n",
    "The confidence interval provides a range of plausible values for the population parameter, taking into account the variability in the sample data and the desired level of confidence."
   ]
  },
  {
   "cell_type": "markdown",
   "id": "3befe183-5708-4814-88b2-e4009f1f5ab3",
   "metadata": {},
   "source": [
    "Q6)"
   ]
  },
  {
   "cell_type": "markdown",
   "id": "e937de34-9b7b-4940-9bf9-3fd3f6bf50bc",
   "metadata": {},
   "source": [
    "Problem: Suppose there is a certain medical test to diagnose a rare disease. The disease has a prevalence of 0.5% in the population, which means that P(Disease) = 0.005. The test has a sensitivity of 98%, meaning that P(Positive Test Result | Disease) = 0.98. However, the test also has a false positive rate of 5%, indicating that P(Positive Test Result | No Disease) = 0.05. Now, given that an individual tests positive for the disease, what is the probability that they actually have the disease (P(Disease | Positive Test Result))?\n",
    "\n",
    "Solution To calculate P(Disease | Positive Test Result) using Bayes' theorem, we need to use the following formula:\n",
    "\n",
    "P(Disease | Positive Test Result) = (P(Positive Test Result | Disease) * P(Disease)) / P(Positive Test Result)\n",
    "\n",
    "First, let's calculate P(Positive Test Result) using the law of total probability:\n",
    "\n",
    "P(Positive Test Result) = (P(Positive Test Result | Disease) * P(Disease)) + (P(Positive Test Result | No Disease) * P(No Disease))\n",
    "\n",
    "Given the information provided, P(Positive Test Result) = (0.98 * 0.005) + (0.05 * 0.995) = 0.0099 + 0.04975 = 0.05965\n",
    "\n",
    "Now, substituting the values into Bayes' theorem:\n",
    "\n",
    "P(Disease | Positive Test Result) = (0.98 * 0.005) / 0.05965 ≈ 0.0823\n",
    "\n",
    "So, the probability that an individual actually has the disease given a positive test result is approximately 0.0823, or about 8.23%.\n",
    "\n",
    "This calculation highlights how the probability of having the disease changes based on the information provided by the positive test result. Even with a high sensitivity of 98%, the low prevalence of the disease and the possibility of false positives contribute to a relatively low probability of having the disease given a positive test result. Bayes' theorem allows us to update our beliefs and revise the probabilities based on new evidence."
   ]
  },
  {
   "cell_type": "markdown",
   "id": "01dfa915-bb25-4e88-a6eb-52bb856b6958",
   "metadata": {},
   "source": [
    "Q7)"
   ]
  },
  {
   "cell_type": "markdown",
   "id": "f79c27e3-618e-411c-9a01-5ec6b063c6e0",
   "metadata": {},
   "source": [
    "To calculate the 95% confidence interval, we'll use the following formula:\n",
    "\n",
    "Confidence Interval = Sample Mean ± (Critical Value * (Standard Deviation / √Sample Size))\n",
    "\n",
    "Given: Sample Mean (x̄) = 50 Standard Deviation (σ) = 5\n",
    "\n",
    "The critical value for a 95% confidence interval can be obtained from a standard normal distribution table or using statistical software. For a 95% confidence level, the critical value is approximately 1.96.\n",
    "\n",
    "Assuming you have the sample size (n), please provide it so that we can calculate the confidence interval accurately."
   ]
  },
  {
   "cell_type": "markdown",
   "id": "4bf6567d-632c-449f-8ce1-17fc2e43b530",
   "metadata": {},
   "source": [
    "Q8)"
   ]
  },
  {
   "cell_type": "markdown",
   "id": "58798ba4-226b-4100-b20b-526e40cf1721",
   "metadata": {},
   "source": [
    "The margin of error is the range around the sample estimate (such as the sample mean or proportion) that quantifies the uncertainty associated with the estimate. It represents the maximum likely difference between the true population parameter and the sample estimate.\n",
    "\n",
    "In a confidence interval, the margin of error is calculated by multiplying the critical value (obtained from the distribution corresponding to the desired confidence level) by the standard error of the sample. The margin of error provides a measure of the precision or variability of the estimate.\n",
    "\n",
    "A larger sample size generally leads to a smaller margin of error. This is because as the sample size increases, the standard error decreases. With a larger sample, the estimate becomes more precise and less influenced by random variation in the data. Consequently, the margin of error decreases, indicating a narrower range of plausible values for the population parameter.\n",
    "\n",
    "Example: Suppose a political survey is conducted to estimate the proportion of voters in a city who support a particular candidate. The initial sample of 200 voters yields an estimate of 60% in favor of the candidate, with a margin of error of ±5%.\n",
    "\n",
    "Now, imagine a scenario where the sample size is increased to 1000 voters. With the larger sample size, the estimate becomes more accurate and precise. As a result, the margin of error decreases, let's say to ±2%. This means that the range around the estimated proportion of voters in favor of the candidate narrows, providing a more precise interval estimate."
   ]
  },
  {
   "cell_type": "markdown",
   "id": "3658aa5d-929d-41b6-bbe5-11f3cdd6b9fa",
   "metadata": {},
   "source": [
    "Q9)"
   ]
  },
  {
   "cell_type": "markdown",
   "id": "16e119d4-6fb1-4723-9dee-2dac1d5e6de7",
   "metadata": {},
   "source": [
    "To calculate the z-score, we use the following formula:\n",
    "\n",
    "z = (x - μ) / σ\n",
    "Where:\n",
    "\n",
    "x is the data point value,\n",
    "μ is the population mean,\n",
    "σ is the population standard deviation,\n",
    "z is the z-score.\n",
    "Given:\n",
    "\n",
    "x = 75\n",
    "μ = 70\n",
    "σ = 5\n",
    "Now, let's calculate the z-score:\n",
    "\n",
    "z = (75 - 70) / 5 = 1\n",
    "The z-score is 1.\n",
    "\n",
    "Interpretation: A z-score of 1 means that the data point (75) is 1 standard deviation above the population mean (70). It indicates that the value of the data point is relatively higher compared to the average value in the population. The z-score allows for standardized comparison and provides a measure of how far a particular data point deviates from the mean in terms of standard deviations."
   ]
  },
  {
   "cell_type": "markdown",
   "id": "340f5c27-df36-4e5e-a398-d58dca1045d0",
   "metadata": {},
   "source": [
    "Q10)"
   ]
  },
  {
   "cell_type": "markdown",
   "id": "f4b1e120-cd08-4f8d-b5cc-868c27038d98",
   "metadata": {},
   "source": [
    "To conduct a hypothesis test to determine if the weight loss drug is significantly effective, we need to set up the null hypothesis (H0) and the alternative hypothesis (Ha). The t-test will help us evaluate if there is a significant difference between the sample mean and a hypothesized population mean.\n",
    "\n",
    "Null hypothesis (H0): The weight loss drug is not significantly effective. (μ = 0) Alternative hypothesis (Ha): The weight loss drug is significantly effective. (μ ≠ 0)\n",
    "\n",
    "Next, we can perform the t-test using the given information:\n",
    "\n",
    "Sample size (n) = 50\n",
    "Sample mean (x̄) = 6 pounds\n",
    "Sample standard deviation (s) = 2.5 pounds\n",
    "Confidence level = 95%\n",
    "To conduct the t-test, we need to calculate the t-value and compare it to the critical t-value at the specified confidence level.\n",
    "\n",
    "Step 1: Calculate the standard error (SE):\n",
    "\n",
    "SE = s / √n\n",
    "SE = 2.5 / √50 ≈ 0.3536\n",
    "Step 2: Calculate the t-value:\n",
    "\n",
    "t = (x̄ - μ) / SE\n",
    "μ = 0 (based on the null hypothesis)\n",
    "t = (6 - 0) / 0.3536 ≈ 16.97\n",
    "Step 3: Determine the critical t-value:\n",
    "\n",
    "Since the sample size is relatively large (n > 30), we can use the critical t-value from the standard normal distribution. For a 95% confidence level and a two-tailed test, the critical t-value is approximately ±1.96.\n",
    "Step 4: Compare the calculated t-value with the critical t-value: Since the calculated t-value (16.97) is much larger than the critical t-value (±1.96), we can reject the null hypothesis.\n",
    "\n",
    "Conclusion: Based on the results of the t-test, there is sufficient evidence to suggest that the weight loss drug is significantly effective at a 95% confidence level. The sample data indicates a substantial difference between the average weight loss observed and the hypothesized population mean of zero."
   ]
  },
  {
   "cell_type": "markdown",
   "id": "74029a4a-d3e1-4cad-985c-a7bb733cfb7b",
   "metadata": {},
   "source": [
    "Q11)"
   ]
  },
  {
   "cell_type": "markdown",
   "id": "d01fc868-5470-4569-b4ab-4e88bafc2951",
   "metadata": {},
   "source": [
    "To calculate the 95% confidence interval for the true proportion of people satisfied with their job, we'll use the following formula:\n",
    "\n",
    "Confidence Interval = Sample Proportion ± (Critical Value * Standard Error)\n",
    "\n",
    "Given:\n",
    "\n",
    "Sample Size (n) = 500\n",
    "Sample Proportion (p) = 65% = 0.65\n",
    "First, let's calculate the standard error (SE):\n",
    "\n",
    "SE = √((p * (1 - p)) / n)\n",
    "SE = √((0.65 * (1 - 0.65)) / 500)\n",
    "SE ≈ 0.01878\n",
    "Next, we need to determine the critical value at a 95% confidence level. For proportions, we use the z-score corresponding to the desired confidence level.\n",
    "\n",
    "For a 95% confidence level, the critical z-value can be obtained from a standard normal distribution table or using statistical software. The critical z-value for a 95% confidence level is approximately 1.96.\n",
    "\n",
    "Now, we can calculate the confidence interval:\n",
    "\n",
    "Confidence Interval = 0.65 ± (1.96 * 0.01878) Confidence Interval = (0.6139, 0.6861)\n",
    "\n",
    "Interpretation: Based on the survey data, we can be 95% confident that the true proportion of people satisfied with their job lies within the range of approximately 61.39% to 68.61%. This means that if we were to repeat the survey multiple times and construct confidence intervals, approximately 95% of those intervals would contain the true population proportion of job satisfaction.\n",
    "\n",
    "The confidence interval provides a range of plausible values for the true population proportion based on the sample data. It quantifies the uncertainty associated with the estimate and helps us understand the precision of the survey results."
   ]
  },
  {
   "cell_type": "markdown",
   "id": "3de08b1a-d95e-4c22-9314-47ac1a5792d0",
   "metadata": {},
   "source": [
    "Q12)"
   ]
  },
  {
   "cell_type": "markdown",
   "id": "58640bd8-0ac2-411b-a533-64d082bde1c1",
   "metadata": {},
   "source": [
    "To determine if there is a significant difference in student performance between the two teaching methods, we can conduct an independent samples t-test. The null hypothesis (H0) assumes that there is no significant difference, while the alternative hypothesis (Ha) assumes that there is a significant difference.\n",
    "\n",
    "Null hypothesis (H0): The mean scores of the two teaching methods are equal. (μA = μB) Alternative hypothesis (Ha): The mean scores of the two teaching methods are significantly different. (μA ≠ μB)\n",
    "\n",
    "Given: Sample A:\n",
    "\n",
    "Mean score (x̄A) = 85\n",
    "Standard deviation (sA) = 6\n",
    "Sample size (nA) = ?\n",
    "Sample B:\n",
    "\n",
    "Mean score (x̄B) = 82\n",
    "\n",
    "Standard deviation (sB) = 5\n",
    "\n",
    "Sample size (nB) = ?\n",
    "\n",
    "Significance level (α) = 0.01\n",
    "\n",
    "Since the sample sizes (nA and nB) are not provided, we cannot proceed with the t-test without this information. Please provide the sample sizes for both groups so that we can perform the hypothesis test accurately."
   ]
  },
  {
   "cell_type": "markdown",
   "id": "9f1d0beb-d9d1-47fa-9be5-937488d58b19",
   "metadata": {},
   "source": [
    "Q13)"
   ]
  },
  {
   "cell_type": "markdown",
   "id": "05eba8fe-1fd4-425f-a802-107ffe41f2de",
   "metadata": {},
   "source": [
    "To calculate the 90% confidence interval for the true population mean, we'll use the following formula:\n",
    "\n",
    "Confidence Interval = Sample Mean ± (Critical Value * (Standard Deviation / √Sample Size))\n",
    "\n",
    "Given:\n",
    "\n",
    "Population mean (μ) = 60\n",
    "Population standard deviation (σ) = 8\n",
    "Sample size (n) = 50\n",
    "Sample mean (x̄) = 65\n",
    "First, let's calculate the critical value corresponding to a 90% confidence level. We can use the z-score from the standard normal distribution.\n",
    "\n",
    "For a 90% confidence level, the critical z-value can be obtained from a standard normal distribution table or using statistical software. The critical z-value for a 90% confidence level is approximately 1.645.\n",
    "\n",
    "Now, let's calculate the confidence interval:\n",
    "\n",
    "Confidence Interval = 65 ± (1.645 * (8 / √50))\n",
    "\n",
    "To calculate the standard error (SE), we divide the standard deviation by the square root of the sample size:\n",
    "\n",
    "SE = σ / √n\n",
    "\n",
    "SE = 8 / √50 ≈ 1.1314\n",
    "\n",
    "Confidence Interval = 65 ± (1.645 * 1.1314)\n",
    "\n",
    "Confidence Interval = (63.22, 66.78)\n",
    "\n",
    "Interpretation: Based on the sample data, we can be 90% confident that the true population mean falls within the range of approximately 63.22 to 66.78. This means that if we were to repeat the sampling process and construct confidence intervals, approximately 90% of those intervals would contain the true population mean.\n",
    "\n",
    "The confidence interval provides a range of plausible values for the true population mean based on the sample data. It quantifies the uncertainty associated with the estimate and helps us understand the precision of the sample mean as an estimate of the population mean."
   ]
  },
  {
   "cell_type": "markdown",
   "id": "ebb8ec8d-ced0-44a0-a302-7fb63c6bb5b5",
   "metadata": {},
   "source": [
    "Q14)"
   ]
  },
  {
   "cell_type": "markdown",
   "id": "bcee51a2-973d-4da2-8581-4861bdb0066d",
   "metadata": {},
   "source": [
    "To conduct a hypothesis test to determine if caffeine has a significant effect on reaction time, we need to set up the null hypothesis (H0) and the alternative hypothesis (Ha). The t-test will help us evaluate if there is a significant difference between the sample mean and a hypothesized population mean.\n",
    "\n",
    "Null hypothesis (H0): Caffeine does not have a significant effect on reaction time. (μ = μ0) Alternative hypothesis (Ha): Caffeine has a significant effect on reaction time. (μ ≠ μ0)\n",
    "\n",
    "Given: Sample size (n) = 30 Sample mean (x̄) = 0.25 seconds Sample standard deviation (s) = 0.05 seconds Confidence level = 90%\n",
    "\n",
    "To conduct the t-test, we need to calculate the t-value and compare it to the critical t-value at the specified confidence level.\n",
    "\n",
    "Step 1: Set the hypothesized population mean (μ0): Let's assume that the null hypothesis states that there is no effect, so we can set μ0 to any value. For simplicity, we'll set μ0 to 0.\n",
    "\n",
    "Step 2: Calculate the standard error (SE): SE = s / √n SE = 0.05 / √30 ≈ 0.00913\n",
    "\n",
    "Step 3: Calculate the t-value: t = (x̄ - μ0) / SE t = (0.25 - 0) / 0.00913 ≈ 27.38\n",
    "\n",
    "Step 4: Determine the critical t-value: Since we have a two-tailed test at a 90% confidence level and 29 degrees of freedom (n-1), the critical t-value can be obtained from a t-distribution table or using statistical software. For a 90% confidence level and 29 degrees of freedom, the critical t-value is approximately ±1.699.\n",
    "\n",
    "Step 5: Compare the calculated t-value with the critical t-value: Since the calculated t-value (27.38) is much larger than the critical t-value (±1.699), we can reject the null hypothesis.\n",
    "\n",
    "Conclusion: Based on the results of the t-test, there is sufficient evidence to suggest that caffeine has a significant effect on reaction time at a 90% confidence level. The sample data indicates a substantial difference between the average reaction time observed and the hypothesized population mean of 0, indicating that caffeine has an impact on reaction time."
   ]
  },
  {
   "cell_type": "code",
   "execution_count": null,
   "id": "f6d87e83-dec2-43ca-995c-356df5c45ef1",
   "metadata": {},
   "outputs": [],
   "source": []
  }
 ],
 "metadata": {
  "kernelspec": {
   "display_name": "Python 3 (ipykernel)",
   "language": "python",
   "name": "python3"
  },
  "language_info": {
   "codemirror_mode": {
    "name": "ipython",
    "version": 3
   },
   "file_extension": ".py",
   "mimetype": "text/x-python",
   "name": "python",
   "nbconvert_exporter": "python",
   "pygments_lexer": "ipython3",
   "version": "3.10.8"
  }
 },
 "nbformat": 4,
 "nbformat_minor": 5
}
